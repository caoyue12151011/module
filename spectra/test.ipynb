{
 "cells": [
  {
   "cell_type": "code",
   "execution_count": 43,
   "metadata": {},
   "outputs": [],
   "source": [
    "\"\"\"\n",
    "To demonstrate the spectral models in spectra.py.\n",
    "\"\"\"\n",
    "import os\n",
    "import sys\n",
    "import pickle\n",
    "import matplotlib\n",
    "import numpy as np\n",
    "import ipywidgets as widgets\n",
    "import matplotlib.pyplot as plt\n",
    "from importlib import reload\n",
    "from ipywidgets import interact, interactive, fixed, interact_manual\n",
    "from astropy.wcs import WCS\n",
    "from astropy.io import fits\n",
    "\n",
    "import spectra\n",
    "reload(spectra)\n",
    "\n",
    "# change default matplotlib fonts\n",
    "plt.rcParams['font.family'] = 'Times New Roman'\n",
    "plt.rcParams['mathtext.fontset'] = 'cm'\n",
    "plt.rcParams['xtick.labelsize'] = 24\n",
    "plt.rcParams['ytick.labelsize'] = 24\n",
    "plt.rcParams['axes.labelsize'] = 32\n",
    "plt.rcParams['legend.fontsize'] = 26"
   ]
  },
  {
   "cell_type": "markdown",
   "metadata": {},
   "source": [
    "## Demonstration of spectral models"
   ]
  },
  {
   "cell_type": "code",
   "execution_count": 44,
   "metadata": {},
   "outputs": [
    {
     "data": {
      "application/vnd.jupyter.widget-view+json": {
       "model_id": "a1d01c005b444173a591f719a265f28a",
       "version_major": 2,
       "version_minor": 0
      },
      "text/plain": [
       "interactive(children=(Checkbox(value=True, description='draw_thin'), Checkbox(value=True, description='draw_hy…"
      ]
     },
     "metadata": {},
     "output_type": "display_data"
    },
    {
     "data": {
      "text/plain": [
       "<function __main__.f(draw_thin, draw_hyper, T_ex, lgN, sigma_v)>"
      ]
     },
     "execution_count": 44,
     "metadata": {},
     "output_type": "execute_result"
    }
   ],
   "source": [
    "# parameters\n",
    "T_bg = 2.73 # [K]\n",
    "v = np.linspace(-30, 30, 1000)  # [km/s]\n",
    "model = 'NH3_1-1'\n",
    "para_type = 'T-N'\n",
    "'''\n",
    "C17O_1-0\n",
    "C17O_2-1\n",
    "C18O_1-0\n",
    "CO_2-1\n",
    "H13CO+_1-0\n",
    "N2H+_1-0\n",
    "NH2D_1-1\n",
    "NH3_x-x, x=1-9   \n",
    "'''\n",
    "Switch = {'thin': False, 'intensity': True, 'hyperfine': False, \n",
    "          'collapsed_hyperfine': False}\n",
    "Switch_thin = {'thin': True, 'intensity': True, 'hyperfine': True, \n",
    "               'collapsed_hyperfine': False}\n",
    "\n",
    "def f(draw_thin, draw_hyper, T_ex, lgN, sigma_v):\n",
    "    para = [T_ex, lgN, 0, sigma_v]\n",
    "    y = spectra.specmod(v, model, T_bg, Switch, para_type, *para)\n",
    "    y_thin = spectra.specmod(v, model, T_bg, Switch_thin, para_type, *para)\n",
    "\n",
    "    plt.figure(figsize=(20,8))\n",
    "    # plt.xlim(-7,7)\n",
    "    plt.plot(v, y, linewidth=3, c='k', label='Actual')\n",
    "    if draw_thin:\n",
    "        plt.plot(v, y_thin[0], c='k', linewidth=1, label='Opatically thin')\n",
    "    if draw_hyper:\n",
    "        for i in range(1,len(y_thin)):\n",
    "            plt.plot(v, y_thin[i], linewidth=1)\n",
    "    plt.text(.05,.9,model,fontsize=30,transform=plt.gca().transAxes)\n",
    "    plt.legend()\n",
    "    plt.grid()\n",
    "    plt.xlabel('v_lsr (km/s)')\n",
    "    plt.ylabel('Intensity (Jy/sr)')\n",
    "\n",
    "interact(f, T_ex=(3.75,200,.1), lgN=(13.12,18.,.01), sigma_v=(.09,3,.01),\n",
    "         draw_thin=True, draw_hyper=True)"
   ]
  },
  {
   "cell_type": "markdown",
   "metadata": {
    "deletable": true,
    "editable": true
   },
   "source": [
    "## Demonstration of NH3 inversion lines"
   ]
  },
  {
   "cell_type": "code",
   "execution_count": 48,
   "metadata": {},
   "outputs": [
    {
     "data": {
      "application/vnd.jupyter.widget-view+json": {
       "model_id": "f492c691d29d47d5a3c4a743fccbf2eb",
       "version_major": 2,
       "version_minor": 0
      },
      "text/plain": [
       "interactive(children=(IntSlider(value=98, description='T_ex', max=200, min=-3), FloatSlider(value=16.5, descri…"
      ]
     },
     "metadata": {},
     "output_type": "display_data"
    },
    {
     "data": {
      "text/plain": [
       "<function __main__.f(T_ex, lgN, sigma_v)>"
      ]
     },
     "execution_count": 48,
     "metadata": {},
     "output_type": "execute_result"
    }
   ],
   "source": [
    "# parameters\n",
    "T_bg = 2.73 # [K]\n",
    "Switch = {'thin': False, 'intensity': True, 'hyperfine': False, \n",
    "          'collapsed_hyperfine': False}\n",
    "# C = ['r','orangered','orange','y','green','lime','cyan','blue','purple']\n",
    "C = ['r','orange','green','blue']\n",
    "v = np.linspace(-40,40,300)\n",
    "para_type = 'T-N'\n",
    "\n",
    "\n",
    "def f(T_ex,lgN,sigma_v):\n",
    "    para = [T_ex,lgN,0,sigma_v] \n",
    "    \n",
    "    plt.figure(figsize=(25,10))\n",
    "    plt.subplot(121)\n",
    "    # plt.ylim(0,5e8)\n",
    "    \n",
    "    for i in range(1,len(C)+1):\n",
    "        model = 'NH3_%s-%s'%(i,i)\n",
    "        y = spectra.specmod(v,model,T_bg,Switch,para_type,*para)\n",
    "        plt.plot(v,y,linewidth=2,c=C[i-1],label=model)\n",
    "        \n",
    "    plt.legend()\n",
    "    plt.grid()\n",
    "    plt.xlabel('v_lsr (km/s)')\n",
    "    plt.ylabel('Intensity (Jy/sr)')\n",
    "\n",
    "    \n",
    "    I_max = np.full(len(C),np.nan)\n",
    "    for i in range(1,len(C)+1):\n",
    "        model = 'NH3_%s-%s'%(i,i)\n",
    "        y = spectra.specmod(v,model,T_bg,Switch,para_type,*para)\n",
    "        I_max[i-1] = y.max()\n",
    "    I_max /= I_max.max()\n",
    "\n",
    "    plt.subplot(122)\n",
    "    plt.ylim(0,1.1)\n",
    "    plt.scatter(np.arange(len(C)),I_max,color=C[:4],s=400)\n",
    "    plt.plot(np.arange(len(C)),I_max,color='k')\n",
    "    plt.grid()\n",
    "    plt.xlabel('Transitions')\n",
    "    plt.ylabel('Rel. max intensity (Jy/sr)')\n",
    "\n",
    "interact(f,lgN=(14.,19.,.1),T_ex=(-3,200,1),sigma_v=(.1,2,.01))"
   ]
  },
  {
   "cell_type": "markdown",
   "metadata": {
    "deletable": true,
    "editable": true,
    "jupyter": {
     "outputs_hidden": true
    }
   },
   "source": [
    "## func vs func_tau (needs modification)"
   ]
  },
  {
   "cell_type": "code",
   "execution_count": null,
   "metadata": {},
   "outputs": [],
   "source": [
    "reload(spectra)\n",
    "\n",
    "# parameters\n",
    "T_bg = 2.73 # [K]\n",
    "model = 'N2H+_1-0'# 'C17O_2-1' 'H13CO+_1-0' 'C18O_1-0' 'N2H+_1-0' 'NH2D_1-1'  'H13CO+_1-0' \n",
    "Switch_dict = {\n",
    "    'thin': False,\n",
    "    'intensity': True,\n",
    "    'hyperfine': False,\n",
    "    'collapsed_hyperfine': False,\n",
    "}\n",
    "v = np.linspace(-10,10,1000) # [km/s]\n",
    "tex = 19.1\n",
    "lgN = 15.65\n",
    "v0 = 0 \n",
    "sigma_v = .5\n",
    "\n",
    "tau = spectra.calc_tau(tex,lgN,sigma_v,model)\n",
    "\n",
    "\n",
    "# modeled spectra\n",
    "para = [tex,lgN,v0,sigma_v]\n",
    "y = spectra.func(v,model,T_bg,Switch_dict,*para)\n",
    "para_t = [tex,tau,v0,sigma_v]\n",
    "y_t = spectra.func_tau(v,model,T_bg,Switch_dict,*para_t)\n",
    "\n",
    "\n",
    "# plt.figure(figsize=(10,8))\n",
    "# plt.plot(v,y,label='y')\n",
    "# plt.plot(v,y_t,label='y_t')\n",
    "# plt.legend()\n",
    "# plt.grid()\n",
    "# plt.xlabel('v_lsr (km/s)')\n",
    "# plt.ylabel('Intensity (Jy/sr)')\n",
    "# plt.title(model+', tau=%.1f'%tau) \n",
    "# plt.show()\n",
    "\n",
    "\n",
    "plt.figure(figsize=(10,8))\n",
    "plt.plot(v,y_t/y)\n",
    "plt.grid()\n",
    "plt.xlabel('v_lsr (km/s)')\n",
    "plt.title(model+', tau=%.1f'%tau) \n",
    "plt.show()"
   ]
  }
 ],
 "metadata": {
  "kernelspec": {
   "display_name": "Python 3",
   "language": "python",
   "name": "python3"
  },
  "language_info": {
   "codemirror_mode": {
    "name": "ipython",
    "version": 3
   },
   "file_extension": ".py",
   "mimetype": "text/x-python",
   "name": "python",
   "nbconvert_exporter": "python",
   "pygments_lexer": "ipython3",
   "version": "3.10.14"
  }
 },
 "nbformat": 4,
 "nbformat_minor": 4
}
